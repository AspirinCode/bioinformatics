{
 "cells": [
  {
   "cell_type": "markdown",
   "metadata": {},
   "source": [
    "# Lab 0: Prepartion for the course\n",
    "___"
   ]
  },
  {
   "cell_type": "markdown",
   "metadata": {},
   "source": [
    "### 1. Python\n",
    "\n",
    "In order to get preparation for the course, you need to\n",
    "\n",
    "1. Get familiar with the Python language, especially\n",
    "    - The compound types of variables: `list`, `tuple`, `set`, and `dict`;\n",
    "    - The conditional: `if`, `else`, `elif`\n",
    "    - The loops: `for`, `while`\n",
    "    - List and set comprehensions\n",
    "    - `map()`, `reduce()`, `filter()` function on iterable objects\n",
    "    - **object-oriented programming**, and some special methods, class method, staticmethod\n",
    "    \n",
    "2. Know how to do with the following Python modules:\n",
    "    - `re`: for regular expression\n",
    "    - `matplotlib`: for graphics\n",
    "    - `numpy`: for numerical computing and linear algebra\n",
    "    - `scipy`: for scientific computation\n",
    "    - `scikit-learn`: for machine learning\n",
    "    - `panda`: for R-like data structures\n",
    "    - `biopython`: providing bioinformatic tools\n",
    "    \n",
    "If you have any question, please refer to http://github.com/ricket-sjtu/bi028."
   ]
  },
  {
   "cell_type": "code",
   "execution_count": null,
   "metadata": {
    "collapsed": true
   },
   "outputs": [],
   "source": [
    "a = 5\n",
    "if a > 3:\n",
    "    print \"greater than 3\"\n",
    "    elif "
   ]
  },
  {
   "cell_type": "markdown",
   "metadata": {},
   "source": [
    "## 2. Git\n",
    "\n",
    "You need to install the `git` first based on different context:\n",
    "- For **CentOS** user, run\n",
    "```bash\n",
    "sudo yum install git\n",
    "```\n",
    "- For **Ubuntu** users, run\n",
    "```bash\n",
    "sudo apt-get install git\n",
    "```\n",
    "\n",
    "- For Mac users, run\n",
    "```bash\n",
    "brew install git \n",
    "```\n",
    "\n",
    "### `git init`: Create local repository\n",
    "```bash\n",
    "mkdir ~/bi462\n",
    "cd ~/bi462\n",
    "\n",
    "## make the current directory manageable by git\n",
    "git init\n",
    "```\n",
    "You can find that a hidden directory `.git` will soon appeare in the directory.\n",
    "\n",
    "### `git add` + `git commit`: Add something to your local repository\n",
    "\n",
    "Create some files and/or directories in the directory:\n",
    "```bash\n",
    "## Create four subdirectories for the course\n",
    "mkdir lecture assignment lab data scripts images\n",
    "\n",
    "## Obtain the E.coli genome file from Ensembl\n",
    "wget ftp://ftp.ensemblgenomes.org/pub/bacteria/release-32/fasta/bacteria_91_collection/escherichia_coli/dna/Escherichia_coli.HUSEC2011CHR1.dna_rm.chromosome.Chromosome.fa.gz -o data/\n",
    "\n",
    "## Add file to the local repository\n",
    "git add data/Escherichia_coli.HUSEC2011CHR1.dna_rm.chromosome.Chromosome.fa.gz\n",
    "\n",
    "## Commit the changes\n",
    "git commit -m \"add E.coli genome data file\"\n",
    "```\n",
    "\n",
    "### Creat an account on Github\n",
    "\n",
    "Assume that your account is `username` with email=youremail@example.com and password is `passwd`.\n",
    "\n",
    "Now create **SSH Key** on your local computer using the command:\n",
    "```bash\n",
    "ssh-keygen -t rsa -C \"youremail@example.com\"\n",
    "```\n",
    "\n",
    "Then you can find two files, `id_rsa` and `id_rsa.pub` for private key and public key, respectively under the directory `.ssh` of your HOME directory.\n",
    "\n",
    "Log on into Github and open the page **Account settings -> SSH Keys**, click **Add SSH Key**, fill in the textarea **title** with arbitrary words, and paste the content in **id_rsa.pub** into the **Key**:\n",
    "![](http://www.liaoxuefeng.com/files/attachments/001384908342205cc1234dfe1b541ff88b90b44b30360da000/0)\n",
    "\n",
    "And finally press **Add Key** to ensure that you can log on into the Github."
   ]
  },
  {
   "cell_type": "markdown",
   "metadata": {},
   "source": [
    "### `git remote add`: Create the remote repository\n",
    "\n",
    "On the Github webpage, create a repository named **bi462**:\n",
    "![](http://www.liaoxuefeng.com/files/attachments/0013849084639042e9b7d8d927140dba47c13e76fe5f0d6000/0)\n",
    "\n",
    "Up to now, the remote repository is still empty.\n",
    "\n",
    "Now associate your local repository with the remote repository:\n",
    "```bash\n",
    "git remote add bi462 git@github.com:username/bi462.git\n",
    "```"
   ]
  },
  {
   "cell_type": "markdown",
   "metadata": {},
   "source": [
    "### `git push`: Push the local repository to the remote repository\n",
    "\n",
    "Since you have add something into the local repository, you can push them to the remote repository by running\n",
    "```bash\n",
    "git push -u bi462 master\n",
    "```\n",
    "\n",
    "Then you can see the change on the remote library:\n",
    "\n",
    "![](http://www.liaoxuefeng.com/files/attachments/00138490848464619aebd9a2bb0493c83e132ca1eed6f66000/0)"
   ]
  },
  {
   "cell_type": "markdown",
   "metadata": {},
   "source": [
    "### `git clone`: Clone the files in the remote repository to your local machine\n",
    "\n",
    "```bash\n",
    "git clone https://github.com/ricket-sjtu/bi028.git\n",
    "```"
   ]
  },
  {
   "cell_type": "markdown",
   "metadata": {},
   "source": [
    "## 3. Jupyter notebook\n",
    "\n",
    "Install [Anaconda2](https://www.continuum.io/downloads) on your computer and add the binary directory for `anaconda2` to **\\$PATH** environment variable:\n",
    "```bash\n",
    "export PATH=$PATH:/opt/anaconda2/bin\n",
    "```\n",
    "\n",
    "And then run\n",
    "```bash\n",
    "sudo pip install bash_kernel\n",
    "python -m bash.kernel\n",
    "sudo pip install biopython\n",
    "```\n",
    "\n",
    "In the directory `bi462`, run\n",
    "```bash\n",
    "jupyter notebook\n",
    "```\n",
    "to open the notebook in the web explorer."
   ]
  }
 ],
 "metadata": {
  "kernelspec": {
   "display_name": "Python [default]",
   "language": "python",
   "name": "python2"
  },
  "language_info": {
   "codemirror_mode": {
    "name": "ipython",
    "version": 2
   },
   "file_extension": ".py",
   "mimetype": "text/x-python",
   "name": "python",
   "nbconvert_exporter": "python",
   "pygments_lexer": "ipython2",
   "version": "2.7.12"
  }
 },
 "nbformat": 4,
 "nbformat_minor": 0
}
